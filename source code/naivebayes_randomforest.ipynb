{
  "nbformat": 4,
  "nbformat_minor": 0,
  "metadata": {
    "colab": {
      "provenance": []
    },
    "kernelspec": {
      "name": "python3",
      "display_name": "Python 3"
    },
    "language_info": {
      "name": "python"
    }
  },
  "cells": [
    {
      "cell_type": "markdown",
      "source": [
        "Naive Bayes"
      ],
      "metadata": {
        "id": "NDvRivvPpgmM"
      }
    },
    {
      "cell_type": "markdown",
      "source": [
        "importing"
      ],
      "metadata": {
        "id": "bNLPcnFMpkZn"
      }
    },
    {
      "cell_type": "code",
      "source": [],
      "metadata": {
        "id": "2aoELxhHUPnZ"
      },
      "execution_count": 54,
      "outputs": []
    },
    {
      "cell_type": "code",
      "source": [
        "import numpy as np\n",
        "import pandas as pd\n",
        "import matplotlib.pyplot as plt"
      ],
      "metadata": {
        "id": "i7hG0znnphln"
      },
      "execution_count": 55,
      "outputs": []
    },
    {
      "cell_type": "markdown",
      "source": [
        "datasets"
      ],
      "metadata": {
        "id": "dWR-NAt5pmOQ"
      }
    },
    {
      "cell_type": "code",
      "source": [
        "fake = pd.read_csv('/content/news/Fake.csv', delimiter = ',')\n",
        "true = pd.read_csv('/content/news/True.csv', delimiter = ',')\n"
      ],
      "metadata": {
        "id": "HtZiI_i5pn0z"
      },
      "execution_count": 56,
      "outputs": []
    },
    {
      "cell_type": "markdown",
      "source": [
        "combining datasets to one, and adding a column to define fake/real"
      ],
      "metadata": {
        "id": "uc46h4P2rdXD"
      }
    },
    {
      "cell_type": "code",
      "source": [
        "fake['sentiment']= 0\n",
        "true['sentiment']= 1\n",
        "\n",
        "dataset =pd.DataFrame()\n",
        "dataset = pd.concat([true, fake])\n",
        "dataset.count"
      ],
      "metadata": {
        "id": "_6BEnuncrcyc",
        "colab": {
          "base_uri": "https://localhost:8080/"
        },
        "outputId": "95c9c32e-f390-4a5b-9b79-6debdf483a75"
      },
      "execution_count": 57,
      "outputs": [
        {
          "output_type": "execute_result",
          "data": {
            "text/plain": [
              "<bound method DataFrame.count of                                                    title  \\\n",
              "0      As U.S. budget fight looms, Republicans flip t...   \n",
              "1      U.S. military to accept transgender recruits o...   \n",
              "2      Senior U.S. Republican senator: 'Let Mr. Muell...   \n",
              "3      FBI Russia probe helped by Australian diplomat...   \n",
              "4      Trump wants Postal Service to charge 'much mor...   \n",
              "...                                                  ...   \n",
              "23476  McPain: John McCain Furious That Iran Treated ...   \n",
              "23477  JUSTICE? Yahoo Settles E-mail Privacy Class-ac...   \n",
              "23478  Sunnistan: US and Allied ‘Safe Zone’ Plan to T...   \n",
              "23479  How to Blow $700 Million: Al Jazeera America F...   \n",
              "23480  10 U.S. Navy Sailors Held by Iranian Military ...   \n",
              "\n",
              "                                                    text       subject  \\\n",
              "0      WASHINGTON (Reuters) - The head of a conservat...  politicsNews   \n",
              "1      WASHINGTON (Reuters) - Transgender people will...  politicsNews   \n",
              "2      WASHINGTON (Reuters) - The special counsel inv...  politicsNews   \n",
              "3      WASHINGTON (Reuters) - Trump campaign adviser ...  politicsNews   \n",
              "4      SEATTLE/WASHINGTON (Reuters) - President Donal...  politicsNews   \n",
              "...                                                  ...           ...   \n",
              "23476  21st Century Wire says As 21WIRE reported earl...   Middle-east   \n",
              "23477  21st Century Wire says It s a familiar theme. ...   Middle-east   \n",
              "23478  Patrick Henningsen  21st Century WireRemember ...   Middle-east   \n",
              "23479  21st Century Wire says Al Jazeera America will...   Middle-east   \n",
              "23480  21st Century Wire says As 21WIRE predicted in ...   Middle-east   \n",
              "\n",
              "                     date  sentiment  \n",
              "0      December 31, 2017           1  \n",
              "1      December 29, 2017           1  \n",
              "2      December 31, 2017           1  \n",
              "3      December 30, 2017           1  \n",
              "4      December 29, 2017           1  \n",
              "...                   ...        ...  \n",
              "23476    January 16, 2016          0  \n",
              "23477    January 16, 2016          0  \n",
              "23478    January 15, 2016          0  \n",
              "23479    January 14, 2016          0  \n",
              "23480    January 12, 2016          0  \n",
              "\n",
              "[44898 rows x 5 columns]>"
            ]
          },
          "metadata": {},
          "execution_count": 57
        }
      ]
    },
    {
      "cell_type": "markdown",
      "source": [
        "cleaning"
      ],
      "metadata": {
        "id": "Oeos19A_sUlS"
      }
    },
    {
      "cell_type": "code",
      "source": [
        "column = ['date','subject']\n",
        "dataset = dataset.drop(columns=column)\n",
        "input_array=np.array(dataset['title'])"
      ],
      "metadata": {
        "id": "rTetN6qNsT3q"
      },
      "execution_count": 58,
      "outputs": []
    },
    {
      "cell_type": "code",
      "source": [
        "import re\n",
        "import nltk\n",
        "nltk.download('stopwords')\n",
        "from nltk.corpus import stopwords\n",
        "from nltk.stem.porter import PorterStemmer\n",
        "corpus = []\n",
        "for i in range(0, 40000):\n",
        "    review = re.sub('[^a-zA-Z]', ' ', input_array[i])\n",
        "    review = review.lower()\n",
        "    review = review.split()\n",
        "    ps = PorterStemmer()\n",
        "    review = [ps.stem(word) for word in review if not word in set(stopwords.words('english'))]\n",
        "    review = ' '.join(review)\n",
        "    corpus.append(review)\n",
        ""
      ],
      "metadata": {
        "colab": {
          "base_uri": "https://localhost:8080/"
        },
        "id": "VMtbpGrisWz0",
        "outputId": "5a433e65-7e06-4a17-f8f6-e1120f995bb0"
      },
      "execution_count": 59,
      "outputs": [
        {
          "output_type": "stream",
          "name": "stderr",
          "text": [
            "[nltk_data] Downloading package stopwords to /root/nltk_data...\n",
            "[nltk_data]   Package stopwords is already up-to-date!\n"
          ]
        }
      ]
    },
    {
      "cell_type": "markdown",
      "source": [
        "creating bag of world model"
      ],
      "metadata": {
        "id": "6o4qnOoDvNS_"
      }
    },
    {
      "cell_type": "code",
      "source": [
        "from sklearn.feature_extraction.text import CountVectorizer\n",
        "cv = CountVectorizer(max_features = 5000)\n",
        "X = cv.fit_transform(corpus).toarray()\n",
        "y = dataset.iloc[0:40000, 2].values\n"
      ],
      "metadata": {
        "id": "m5NUCu4ovE6z"
      },
      "execution_count": 60,
      "outputs": []
    },
    {
      "cell_type": "markdown",
      "source": [
        "splitting data to training and test set"
      ],
      "metadata": {
        "id": "yIJ2NY42vQy_"
      }
    },
    {
      "cell_type": "code",
      "source": [
        "from sklearn.model_selection import train_test_split\n",
        "X_train, X_test, y_train, y_test = train_test_split(X, y, test_size = 0.20, random_state = 0)"
      ],
      "metadata": {
        "id": "sjc3wLiivTOV"
      },
      "execution_count": 61,
      "outputs": []
    },
    {
      "cell_type": "markdown",
      "source": [
        "calculating percentages from the confusion matrices"
      ],
      "metadata": {
        "id": "CgsakJwLyIIV"
      }
    },
    {
      "cell_type": "code",
      "source": [
        "def calculate_accuracy(confusion_matrix):\n",
        "    # Extract the values from the confusion matrix\n",
        "    true_positives = confusion_matrix[0][0]\n",
        "    true_negatives = confusion_matrix[1][1]\n",
        "    false_positives = confusion_matrix[0][1]\n",
        "    false_negatives = confusion_matrix[1][0]\n",
        "\n",
        "    # Calculate the accuracy\n",
        "    accuracy = (true_positives + true_negatives) / (true_positives + true_negatives + false_positives + false_negatives)\n",
        "\n",
        "    # Convert accuracy to percentage\n",
        "    accuracy_percentage = accuracy * 100\n",
        "\n",
        "    return accuracy_percentage\n"
      ],
      "metadata": {
        "id": "uUgXOixeyLnJ"
      },
      "execution_count": 62,
      "outputs": []
    },
    {
      "cell_type": "markdown",
      "source": [
        "fitting to Naive Bayes"
      ],
      "metadata": {
        "id": "D1XY-ZpJvZaZ"
      }
    },
    {
      "cell_type": "code",
      "source": [
        "import time\n",
        "from sklearn.naive_bayes import GaussianNB\n",
        "from sklearn.metrics import confusion_matrix\n",
        "\n",
        "# Start the timer\n",
        "start_time = time.time()\n",
        "\n",
        "# Fitting Naive Bayes to the Training set\n",
        "classifier = GaussianNB()\n",
        "classifier.fit(X_train, y_train)\n",
        "\n",
        "# Predicting the Test set results\n",
        "y_pred = classifier.predict(X_test)\n",
        "\n",
        "# Making the Confusion Matrix\n",
        "cm_naivebayes = confusion_matrix(y_test, y_pred)\n",
        "\n",
        "# Stop the timer\n",
        "end_time = time.time()\n",
        "\n",
        "# Calculate the elapsed time\n",
        "elapsed_time = end_time - start_time\n",
        "\n",
        "print('Naive Bayes confusion matrix:')\n",
        "print(cm_naivebayes)\n",
        "accuracy_naivebayes = calculate_accuracy(cm_naivebayes)\n",
        "print('Accuracy of Naive Bayes method:', accuracy_naivebayes)\n",
        "print('Elapsed time:', elapsed_time, 'seconds')\n"
      ],
      "metadata": {
        "colab": {
          "base_uri": "https://localhost:8080/"
        },
        "id": "hhOhk4wFvah-",
        "outputId": "25efc958-abdf-4408-a4ea-1ab8b2ab971d"
      },
      "execution_count": 63,
      "outputs": [
        {
          "output_type": "stream",
          "name": "stdout",
          "text": [
            "Naive Bayes confusion matrix:\n",
            "[[3096  656]\n",
            " [ 280 3968]]\n",
            "Accuracy of Naive Bayes method: 88.3\n",
            "Elapsed time: 3.3326354026794434 seconds\n"
          ]
        }
      ]
    },
    {
      "cell_type": "markdown",
      "source": [
        "fitting to Random Forest"
      ],
      "metadata": {
        "id": "cdv69WiEwA8m"
      }
    },
    {
      "cell_type": "code",
      "source": [
        "import time\n",
        "from sklearn.ensemble import RandomForestClassifier\n",
        "from sklearn.metrics import confusion_matrix\n",
        "\n",
        "# Start the timer\n",
        "start_time = time.time()\n",
        "\n",
        "# Fitting Random Forest to the Training set\n",
        "classifier3 = RandomForestClassifier(n_estimators=10, criterion='entropy', random_state=0)\n",
        "classifier3.fit(X_train, y_train)\n",
        "\n",
        "# Predicting the Test set results\n",
        "y_predR = classifier3.predict(X_test)\n",
        "\n",
        "# Making the Confusion Matrix\n",
        "cm_randomforest = confusion_matrix(y_test, y_predR)\n",
        "\n",
        "# Stop the timer\n",
        "end_time = time.time()\n",
        "\n",
        "# Calculate the elapsed time\n",
        "elapsed_time = end_time - start_time\n",
        "\n",
        "print('Random Forest confusion matrix:')\n",
        "print(cm_randomforest)\n",
        "accuracy_randomforest = calculate_accuracy(cm_randomforest)\n",
        "print('Accuracy of Random Forest method:', accuracy_randomforest)\n",
        "print('Elapsed time:', elapsed_time, 'seconds')\n"
      ],
      "metadata": {
        "colab": {
          "base_uri": "https://localhost:8080/"
        },
        "id": "pmBpTypjv7p5",
        "outputId": "80b50c75-265c-4dfc-afc1-46d98b89bc23"
      },
      "execution_count": 69,
      "outputs": [
        {
          "output_type": "stream",
          "name": "stdout",
          "text": [
            "Random Forest confusion matrix:\n",
            "[[3454  298]\n",
            " [ 296 3952]]\n",
            "Accuracy of Random Forest method: 92.575\n",
            "Elapsed time: 15.117662191390991 seconds\n"
          ]
        }
      ]
    }
  ]
}